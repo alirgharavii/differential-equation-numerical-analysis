{
 "cells": [
  {
   "cell_type": "markdown",
   "id": "012a552d",
   "metadata": {},
   "source": [
    "# differential equation"
   ]
  },
  {
   "cell_type": "markdown",
   "id": "4c544378",
   "metadata": {},
   "source": [
    "__author__: alireza gharavi 400222066"
   ]
  },
  {
   "cell_type": "markdown",
   "id": "c6a36686",
   "metadata": {},
   "source": [
    "__Course__ : Undergraduate Numerical Analysis Course"
   ]
  },
  {
   "cell_type": "markdown",
   "id": "e84919cb",
   "metadata": {},
   "source": [
    "## part a)\n",
    "solve differential equation $y’’(x) - xy’(x) + y(x) = \\sqrt{1 + x} $\n",
    "\n",
    "$y(0) = 20$\n",
    "\n",
    "$y(1) = 25$"
   ]
  },
  {
   "cell_type": "markdown",
   "id": "fa5113f9",
   "metadata": {},
   "source": [
    "first i introduce the function to estimate the value for $y(0.25), y(0.5), y(0.75)$ in recursive."
   ]
  },
  {
   "cell_type": "code",
   "execution_count": 23,
   "id": "d9ea3932",
   "metadata": {},
   "outputs": [
    {
     "data": {
      "text/plain": [
       "{y1: 23.2612989875840, y2: 25.3044066196034, y3: 25.9258010828363}"
      ]
     },
     "execution_count": 23,
     "metadata": {},
     "output_type": "execute_result"
    }
   ],
   "source": [
    "import sympy as sp\n",
    "y1, y2, y3 = sp.symbols('y1, y2, y3')\n",
    "eq1 = sp.Eq((y2 - 2*y1 + 20)/(0.25 ** 2) - (0.25) * (y2 - 20)/(2 *0.25) + y1 - sp.sqrt(1.25), 0) \n",
    "eq2 = sp.Eq((y3- 2*y2+ y1)/(0.25 ** 2) - (0.5) * (y3 - y1)/(2 *0.5) + y2 - sp.sqrt(1.5), 0)\n",
    "eq3 = sp.Eq((25- 2*y3+ y2)/(0.25 ** 2) - (0.75) * (25 - y2)/(2 *0.75) + y3 - sp.sqrt(1.75), 0)\n",
    "sp.solve((eq1, eq2, eq3), (y1, y2, y3))"
   ]
  },
  {
   "cell_type": "code",
   "execution_count": null,
   "id": "8a90b354",
   "metadata": {},
   "outputs": [],
   "source": []
  }
 ],
 "metadata": {
  "kernelspec": {
   "display_name": "Python 3 (ipykernel)",
   "language": "python",
   "name": "python3"
  },
  "language_info": {
   "codemirror_mode": {
    "name": "ipython",
    "version": 3
   },
   "file_extension": ".py",
   "mimetype": "text/x-python",
   "name": "python",
   "nbconvert_exporter": "python",
   "pygments_lexer": "ipython3",
   "version": "3.9.13"
  }
 },
 "nbformat": 4,
 "nbformat_minor": 5
}
